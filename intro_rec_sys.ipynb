{
  "nbformat": 4,
  "nbformat_minor": 0,
  "metadata": {
    "colab": {
      "name": "intro_rec_sys.ipynb",
      "provenance": [],
      "authorship_tag": "ABX9TyNUZqA+/NBKqhh1eJIFifA9",
      "include_colab_link": true
    },
    "kernelspec": {
      "name": "python3",
      "display_name": "Python 3"
    },
    "language_info": {
      "name": "python"
    }
  },
  "cells": [
    {
      "cell_type": "markdown",
      "metadata": {
        "id": "view-in-github",
        "colab_type": "text"
      },
      "source": [
        "<a href=\"https://colab.research.google.com/github/hojuly/study_RecSys/blob/master/intro_rec_sys.ipynb\" target=\"_parent\"><img src=\"https://colab.research.google.com/assets/colab-badge.svg\" alt=\"Open In Colab\"/></a>"
      ]
    },
    {
      "cell_type": "markdown",
      "metadata": {
        "id": "nF3W42EUN0IJ"
      },
      "source": [
        "# Recommender System"
      ]
    },
    {
      "cell_type": "markdown",
      "metadata": {
        "id": "7GLz2QaFN0Dl"
      },
      "source": [
        "## 추천시스템이란?"
      ]
    },
    {
      "cell_type": "markdown",
      "metadata": {
        "id": "g5gV-gTZN0A7"
      },
      "source": [
        "* 사용자(User)와 상품(Item)으로 구성된 시스템에서 사용자든 상품이든 관심 갖을만한 **정보**를 추천하는 것\n",
        "\n",
        "* 역할: 사용자와 상품 사이의 관계를 분석하고 연관관계를 찾음\n",
        "  * 사용자 정보(고유 정보, 로그 분석) - 아이템 정보(고유 정보)\n",
        "\n",
        "* 목적: 분석된 사용자와 상품 정보를 바탕으로 **추천점수 계산(Scoring)**"
      ]
    },
    {
      "cell_type": "markdown",
      "metadata": {
        "id": "ZGaPxStMNz-p"
      },
      "source": [
        "## 검색 vs 추천 시스템"
      ]
    },
    {
      "cell_type": "markdown",
      "metadata": {
        "id": "q5fHwNXQNz8h"
      },
      "source": [
        "* 검색은 사용자가 요구한 후 작동(Pull Information)\n",
        "* 추천은 사용자가 요구하기 전 작동(Push Information)"
      ]
    },
    {
      "cell_type": "markdown",
      "metadata": {
        "id": "DCeGv0smNz6P"
      },
      "source": [
        "## 추천시스템 트렌드"
      ]
    },
    {
      "cell_type": "markdown",
      "metadata": {
        "id": "i1mfghqhNz4A"
      },
      "source": [
        "- 정보검색 분야와 비슷하지만, 비교적 새로운 연구 분야\n",
        "- 더 많고 다양한 아이템을 판매할 수 있음\n",
        "- 소비자 만족도가 증가 → 플랫폼에 더 머무르는 이유가 됨\n",
        "- 충성도 높은 고객 증가\n",
        "- 고객 니즈 파악이 가능 → 데이터가 쌓일 수록 알고리즘 성능 향상"
      ]
    },
    {
      "cell_type": "markdown",
      "metadata": {
        "id": "zCTGUjkrNz1g"
      },
      "source": [
        "## 추천시스템이 풀고자 하는 문제"
      ]
    },
    {
      "cell_type": "markdown",
      "metadata": {
        "id": "IeZF2lm-NzzN"
      },
      "source": [
        "1. 랭킹 문제\n",
        "    - 특정 유저가 특정 아이템에 대한 평점을 정확하게 예측할 필요 없음\n",
        "    - 특정 아이템(유저)을 좋아할만한 Top-K 유저(아이템)을 선정할 수 있음\n",
        "2. 예측 문제\n",
        "    - 유저-아이템 조합에서 평점을 예측\n",
        "    - 유저-아이템 행렬을 채우는 문제\n",
        "    - 유저-아이템의 m x n 행렬, 그러나 비어있는 부분이 존재\n",
        "        - 관측값은 모델 학습에 사용\n",
        "        - 결측값은 모델 평가에 사용"
      ]
    },
    {
      "cell_type": "markdown",
      "metadata": {
        "id": "TR3xiP1NNzw-"
      },
      "source": [
        "## 추천시스템 알고리즘"
      ]
    },
    {
      "cell_type": "markdown",
      "metadata": {
        "id": "G9uEfdc3Nzt7"
      },
      "source": [
        "1. 컨텐츠 기반 추천시스템\n",
        "    - 사용자가 과거에 좋아했던 아이템을 파악하고, 그 아이템과 비슷한 아이템을 추천\n",
        "2. 협업 필터링(Collaborative Filtering)\n",
        "    - 비슷한 성향 또한 취향을 갖는 다른 유저가 좋아한 아이템을 현재 유저에게 추천\n",
        "    - 간단하면서 수준 높은 정확도\n",
        "3. Hybrid Recommender System\n",
        "    - Content-based와 Collaborative Filtering의 장, 단점을 상호보완\n",
        "    - Collaborative Filtering은 **새로운 아이템에 대한 추천 부족**\n",
        "    - 이에, content-based기법이 cold-start 문제에 도움을 줄 수 있음\n",
        "    \n",
        "4. Context-based Recommendation\n",
        "    - Context-Aware\n",
        "    - Location-Based\n",
        "    - Real-time or Time-Sensitive\n",
        "\n",
        "5. Community-based Recommendation\n",
        "    - 사용자의 친구 또는 속한 커뮤니티의 선호도를 바탕으로 추천\n",
        "    - SNS 등의 뉴스피드 또는 SNS 네트워크 데이터 등 활용\n",
        "    \n",
        "6. Knowledge-based Recommendation\n",
        "    - 특정 도메인 지식을 바탕으로 아이템의 features를 활용한 추천\n",
        "    - Case-based Recommendation\n",
        "        - 사용자의 니즈와 해결책 중 가장 적합한 것을 골라서 추천\n",
        "    - Constraint-based Recommendation\n",
        "        - 사용자에게 추천할 때, 정해진 규칙을 바탕으로 추천\n"
      ]
    },
    {
      "cell_type": "markdown",
      "metadata": {
        "id": "b7Tc4YH9NzsA"
      },
      "source": [
        "## 추천시스템의 한계"
      ]
    },
    {
      "cell_type": "markdown",
      "metadata": {
        "id": "miOHAzILNzpu"
      },
      "source": [
        "- Scalability\n",
        "    - 실제 서비스 상황은 다양한 종류의 데이터\n",
        "    - 학습 또는 분석에 사용한 데이터와는 전혀 다른 실전 데이터\n",
        "        - 쇼핑몰에서의 트렌드 변화\n",
        "        - 코로나 같은 특수 상황\n",
        "- Proactive Recommender System\n",
        "    - 특별한 요청이 없어도 사전에 먼저 제공하는 추천 서비스\n",
        "        - 굉장히 어려움\n",
        "        - 주어진 정보(과거)를 바탕으로 하기 때문 — cold-start와 연관\n",
        "    - 모바일, 인터넷 등 어디서는 유저에게 끊임없이 좋은 정보를 추천할 수 있는 서비스 필요\n",
        "- Cold-Start Problem\n",
        "    - 추천서비스를 위한 데이터 부족\n",
        "    - 기본적인 성능을 보장하는 협업필터링 모델 구축이 쉽지 않은 것이 일반적\n",
        "    - 컨텐츠 기반 또는 지식 기반의 방법 역시 서비스로 적용하기 어려움\n",
        "- Privacy preserving Recommender System\n",
        "    - 개인정보 등 유저 정보가 가장 중요하지만, 직접적으로 사용하기 어려움\n",
        "- Mobile devices and Usage Contexts\n",
        "    - Personal Computing\n",
        "    - Location-based Service(LBS)\n",
        "        - 위치 기반\n",
        "    - 개별 상황 또는 환경 등에 따라 다른 컨텍스트를 사용\n",
        "- Long-term and Short-term user preference\n",
        "    - 개인 또는 그룹의 단기/장기 관심사항\n",
        "    - 추천받고 싶은 아이템이 현재 또는 과거 중 어느 시기와 관련 있는지 파악 어려움\n",
        "- Generic User models and Cross Domain Recommender System\n",
        "    - 하나의 모델을 여러가지 데이터에 적용하기 어려움\n",
        "    - 비슷한 도메인의 데이터를 활용해도 동일한 성능의 추천시스템을 기대하기 어려움\n",
        "- Starvation and Diversity\n",
        "    - Starvation: 필요한 컴퓨터 자원을 끊임없이 가져오지 못하는 상황\n",
        "    - 유저/아이템이 다양하고, 모든 유저/아이템에 더 많은 관심을 부여해야함\n",
        "- Long Tail Economy"
      ]
    },
    {
      "cell_type": "markdown",
      "metadata": {
        "id": "rxbAczeUNznb"
      },
      "source": [
        "> 개인화, 차별화가 생명(Niche products) 으로 보인다."
      ]
    }
  ]
}